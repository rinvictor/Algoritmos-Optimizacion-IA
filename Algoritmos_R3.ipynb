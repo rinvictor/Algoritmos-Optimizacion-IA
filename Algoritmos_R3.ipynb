{
 "cells": [
  {
   "cell_type": "markdown",
   "metadata": {},
   "source": [
    "Víctor Rincón Yepes\n",
    "Github: https://github.com/rinvictor/Algoritmos-Optimizacion-IA/blob/main/Algoritmos_R3.ipynb"
   ]
  },
  {
   "cell_type": "code",
   "execution_count": 20,
   "metadata": {},
   "outputs": [],
   "source": [
    "import os\n",
    "import urllib.request\n",
    "import tsplib95\n",
    "import random     "
   ]
  },
  {
   "cell_type": "code",
   "execution_count": 21,
   "metadata": {},
   "outputs": [
    {
     "name": "stdout",
     "output_type": "stream",
     "text": [
      "El archivo swiss42.tsp ya existe en el sistema.\n"
     ]
    }
   ],
   "source": [
    "file = \"swiss42.tsp\"\n",
    "file_gz = file + '.gz'\n",
    "\n",
    "# Verificar si el archivo existe antes de descargarlo\n",
    "if not os.path.exists(file):\n",
    "    # Descargar el archivo comprimido si no existe\n",
    "    urllib.request.urlretrieve(\"http://comopt.ifi.uni-heidelberg.de/software/TSPLIB95/tsp/swiss42.tsp.gz\", file_gz)\n",
    "    # Descomprimir el archivo\n",
    "    os.system(f\"gzip -d {file_gz}\")\n",
    "else:\n",
    "    print(f\"El archivo {file} ya existe en el sistema.\")"
   ]
  },
  {
   "cell_type": "code",
   "execution_count": 22,
   "metadata": {},
   "outputs": [],
   "source": [
    "tsp = tsplib95.load(file)\n",
    "nodos = list(tsp.get_nodes())\n",
    "aristas = list(tsp.get_edges())"
   ]
  },
  {
   "cell_type": "code",
   "execution_count": 23,
   "metadata": {},
   "outputs": [
    {
     "name": "stdout",
     "output_type": "stream",
     "text": [
      "Total nodos: 42\n",
      "Total aristas: 1764\n"
     ]
    }
   ],
   "source": [
    "print(f\"Total nodos: {len(nodos)}\")\n",
    "print(f\"Total aristas: {len(aristas)}\")"
   ]
  },
  {
   "cell_type": "markdown",
   "metadata": {},
   "source": [
    "### Implentación de un algoritmo de búsqueda aleatoria"
   ]
  },
  {
   "cell_type": "markdown",
   "metadata": {},
   "source": [
    "Implementación de un algoritmo de búsqueda aleatoria para hacernos una idea de las dimensiones del problema."
   ]
  },
  {
   "cell_type": "code",
   "execution_count": 24,
   "metadata": {},
   "outputs": [],
   "source": [
    "# distancia total de un recorrido\n",
    "def calcular_distancia_total(solucion, tsp):\n",
    "  distancia_total = 0\n",
    "  for i in range(len(solucion)-1):\n",
    "    # problema.get_weight devuelve la distancia entre dos nodos\n",
    "    distancia_total += tsp.get_weight(solucion[i] ,solucion[i+1]) \n",
    "  return distancia_total + tsp.get_weight(solucion[len(solucion)-1] ,solucion[0])"
   ]
  },
  {
   "cell_type": "code",
   "execution_count": 25,
   "metadata": {},
   "outputs": [],
   "source": [
    "def generar_solucion(nodos):\n",
    "    solucion_actual = [nodos[0]]\n",
    "    for _ in nodos[1:]:\n",
    "        nodos_restantes = set(nodos) - set({nodos[0]}) - set(solucion_actual)\n",
    "        siguiente_nodo = random.choice(list(nodos_restantes))\n",
    "        solucion_actual.append(siguiente_nodo)\n",
    "    return solucion_actual\n",
    "\n",
    "def busqueda_aleatoria(tsp, max_iteraciones=1000):\n",
    "    nodos = list(tsp.get_nodes())\n",
    "    \n",
    "    mejor_solucion = []\n",
    "    mejor_distancia = float('inf')\n",
    "\n",
    "    for _ in range(max_iteraciones):\n",
    "        solucion_actual = generar_solucion(nodos)\n",
    "        distancia_actual = calcular_distancia_total(solucion_actual, tsp)\n",
    "\n",
    "        if distancia_actual < mejor_distancia:\n",
    "            mejor_solucion = solucion_actual\n",
    "            mejor_distancia = distancia_actual\n",
    "            \n",
    "    return mejor_solucion, mejor_distancia"
   ]
  },
  {
   "cell_type": "code",
   "execution_count": 26,
   "metadata": {},
   "outputs": [
    {
     "name": "stdout",
     "output_type": "stream",
     "text": [
      "La mejor solución encontrada es: [0, 41, 22, 30, 28, 12, 14, 29, 20, 2, 33, 34, 17, 35, 13, 18, 39, 3, 11, 25, 5, 37, 26, 24, 38, 32, 9, 1, 27, 23, 40, 21, 8, 7, 31, 15, 36, 16, 6, 4, 10, 19]\n",
      "Con una distancia total de: 3819\n"
     ]
    }
   ],
   "source": [
    "max_iteraciones = 10000 # Numero de iteraciones como condición de parada\n",
    "mejor_solucion, mejor_distancia = busqueda_aleatoria(tsp, max_iteraciones=max_iteraciones)\n",
    "print(\"La mejor solución encontrada es:\", mejor_solucion)\n",
    "print(\"Con una distancia total de:\", mejor_distancia)"
   ]
  },
  {
   "cell_type": "markdown",
   "metadata": {},
   "source": [
    "### Optimización por colonia de hormigas\n",
    "\n",
    "El siguiente código implementa el algoritmo de colonia de hormigas para resolver el problema del viajero, donde las hormigas construyen soluciones parciales, se actualizan las feromonas en las aristas basadas en estas soluciones, y las feromonas se evaporan para permitir una exploración más amplia del espacio de búsqueda."
   ]
  },
  {
   "cell_type": "code",
   "execution_count": 27,
   "metadata": {},
   "outputs": [],
   "source": [
    "# Genera un nuevo nodo que la hormiga puede visitar\n",
    "def generar_nodo(tsp, ruta_parcial_hormiga):\n",
    "    nodos = list(tsp.get_nodes())\n",
    "    return random.choice(list(set(range(1, len(nodos))) - set(ruta_parcial_hormiga)))\n",
    "\n",
    "def incrementa_feromona(problem, feromonas, ruta_parcial_hormiga):\n",
    "    for i in range(len(ruta_parcial_hormiga)-1):\n",
    "        #  La cantidad de feromonas depositadas depende de la inversa de la distancia total de la ruta recorrida\n",
    "        feromonas[ruta_parcial_hormiga[i]][ruta_parcial_hormiga[i+1]] += 1000 / calcular_distancia_total(ruta_parcial_hormiga, problem)\n",
    "    return feromonas\n",
    "\n",
    "# Reduce la cantidad de feromonas en base a una tasa de evaporación\n",
    "def evaporar_feromonas(feromonas, evaporation_rate):\n",
    "    for i in range(len(feromonas)):\n",
    "        for j in range(len(feromonas[i])):\n",
    "            feromonas[i][j] *= (1 - evaporation_rate)\n",
    "    return feromonas\n",
    "\n",
    "# Lógica del algoritmo de hormigas\n",
    "def hormigas(tsp, max_iteraciones=1000, evaporation_rate=0.3):\n",
    "    nodos = list(tsp.get_nodes())\n",
    "    feromonas = [[1 for _ in range(len(nodos))] for _ in range(len(nodos))]\n",
    "\n",
    "    mejor_solucion = []\n",
    "    mejor_distancia = float('inf')\n",
    "\n",
    "    for _ in range(max_iteraciones):\n",
    "        Hormiga = [0]\n",
    "        for _ in range(len(nodos)-1):\n",
    "            nuevo_nodo = generar_nodo(tsp, Hormiga)\n",
    "            Hormiga.append(nuevo_nodo)\n",
    "\n",
    "        feromonas = incrementa_feromona(tsp, feromonas, Hormiga)\n",
    "        feromonas = evaporar_feromonas(feromonas, evaporation_rate)\n",
    "\n",
    "        distancia_actual = calcular_distancia_total(Hormiga, tsp)\n",
    "        if distancia_actual < mejor_distancia:\n",
    "            mejor_solucion = Hormiga[:]\n",
    "            mejor_distancia = distancia_actual\n",
    "\n",
    "    return mejor_solucion, mejor_distancia\n",
    "\n",
    "\n"
   ]
  },
  {
   "cell_type": "code",
   "execution_count": 28,
   "metadata": {},
   "outputs": [
    {
     "name": "stdout",
     "output_type": "stream",
     "text": [
      "La mejor solución encontrada es: [0, 3, 28, 16, 14, 11, 22, 21, 34, 9, 24, 23, 8, 12, 27, 1, 33, 31, 20, 36, 19, 13, 37, 39, 5, 38, 35, 17, 10, 18, 6, 26, 41, 29, 15, 7, 4, 25, 40, 30, 2, 32]\n",
      "Con una distancia total de: 3840\n"
     ]
    }
   ],
   "source": [
    "max_iteraciones = 1000 # Numero de iteraciones como condición de parada\n",
    "mejor_solucion, mejor_distancia = hormigas(tsp, max_iteraciones=max_iteraciones, evaporation_rate=0.3)\n",
    "print(\"La mejor solución encontrada es:\", mejor_solucion)\n",
    "print(\"Con una distancia total de:\", mejor_distancia)"
   ]
  },
  {
   "cell_type": "markdown",
   "metadata": {},
   "source": [
    "### Mejora del algoritmo de colonia de hormigas\n",
    "\n",
    "Mejora de la implementación de colonia de hormigas implementada anteriormente sobre el TSP mediante la elección de nodo que tenga en consideración una función de probabilidad que depende de las feromonas."
   ]
  },
  {
   "cell_type": "code",
   "execution_count": 29,
   "metadata": {},
   "outputs": [],
   "source": [
    "#  Calcula las probabilidades de seleccionar cada nodo vecino como próximo nodo a visitar por la hormiga, basándose en las feromonas y las distancias entre nodos\n",
    "def calcular_probabilidades(tsp, feromonas, ruta_parcial_hormiga, alpha=1, beta=2):\n",
    "    nodos_restantes = list(set(range(len(list(tsp.get_nodes())))) - set(ruta_parcial_hormiga))\n",
    "    sumatoria_probabilidades = 0\n",
    "    probabilidades = []\n",
    "\n",
    "    for nodo in nodos_restantes:\n",
    "        numerador = feromonas[ruta_parcial_hormiga[-1]][nodo] ** alpha * (1 / tsp.get_weight(ruta_parcial_hormiga[-1], nodo)) ** beta\n",
    "        denominador = sum((feromonas[ruta_parcial_hormiga[-1]][vecino] ** alpha) * (1 / tsp.get_weight(ruta_parcial_hormiga[-1], vecino)) ** beta for vecino in nodos_restantes)\n",
    "        probabilidad = numerador / denominador\n",
    "        sumatoria_probabilidades += probabilidad\n",
    "        probabilidades.append((nodo, probabilidad))\n",
    "\n",
    "    probabilidades = [(nodo, probabilidad / sumatoria_probabilidades) for nodo, probabilidad in probabilidades]\n",
    "    return probabilidades\n",
    "\n",
    "# Elige un nodo vecino basándose en las probabilidades calculadas\n",
    "def elegir_nodo_con_probabilidad(probabilidades):\n",
    "    r = random.random()\n",
    "    acumulado = 0\n",
    "\n",
    "    for nodo, probabilidad in probabilidades:\n",
    "        acumulado += probabilidad\n",
    "        if acumulado >= r:\n",
    "            return nodo\n",
    "\n",
    "def hormigas_con_probabilidad(tsp, max_iteraciones, alpha=1, beta=2, evaporation_rate=0.3):\n",
    "    nodos = list(tsp.get_nodes())\n",
    "    feromonas = [[1 for _ in range(len(nodos))] for _ in range(len(nodos))]\n",
    "\n",
    "    mejor_solucion = []\n",
    "    mejor_distancia = float('inf')\n",
    "\n",
    "    for _ in range(max_iteraciones):\n",
    "        Hormiga = [0]\n",
    "\n",
    "        while len(Hormiga) < len(nodos):\n",
    "            probabilidades = calcular_probabilidades(tsp, feromonas, Hormiga, alpha, beta)\n",
    "            nuevo_nodo = elegir_nodo_con_probabilidad(probabilidades)\n",
    "            Hormiga.append(nuevo_nodo)\n",
    "\n",
    "        feromonas = incrementa_feromona(tsp, feromonas, Hormiga)\n",
    "        feromonas = evaporar_feromonas(feromonas, evaporation_rate)\n",
    "\n",
    "        distancia_actual = calcular_distancia_total(Hormiga, tsp)\n",
    "        if distancia_actual < mejor_distancia:\n",
    "            mejor_solucion = Hormiga[:]\n",
    "            mejor_distancia = distancia_actual\n",
    "\n",
    "    return mejor_solucion, mejor_distancia\n",
    "\n",
    "\n"
   ]
  },
  {
   "cell_type": "code",
   "execution_count": 30,
   "metadata": {},
   "outputs": [
    {
     "name": "stdout",
     "output_type": "stream",
     "text": [
      "La mejor solución encontrada es: [0, 1, 6, 5, 26, 18, 12, 11, 10, 25, 19, 13, 16, 14, 15, 37, 7, 17, 31, 35, 36, 34, 20, 33, 32, 30, 29, 8, 41, 23, 9, 39, 21, 40, 24, 38, 22, 28, 27, 2, 3, 4]\n",
      "Con una distancia total de: 1544\n"
     ]
    }
   ],
   "source": [
    "max_iteraciones = 1000 # Numero de iteraciones como condición de parada\n",
    "mejor_solucion, mejor_distancia = hormigas_con_probabilidad(tsp, max_iteraciones, alpha=1, beta=2, evaporation_rate=0.1)\n",
    "print(\"La mejor solución encontrada es:\", mejor_solucion)\n",
    "print(\"Con una distancia total de:\", mejor_distancia)"
   ]
  },
  {
   "cell_type": "markdown",
   "metadata": {},
   "source": [
    "Como vemos la mejora es significativa ya que encuentra una distancia mucho más corta usando esta segunda aproximación."
   ]
  }
 ],
 "metadata": {
  "kernelspec": {
   "display_name": "algoritmos_de_optimizacion_venv",
   "language": "python",
   "name": "algoritmos_de_optimizacion_venv"
  },
  "language_info": {
   "codemirror_mode": {
    "name": "ipython",
    "version": 3
   },
   "file_extension": ".py",
   "mimetype": "text/x-python",
   "name": "python",
   "nbconvert_exporter": "python",
   "pygments_lexer": "ipython3",
   "version": "3.10.12"
  }
 },
 "nbformat": 4,
 "nbformat_minor": 2
}
